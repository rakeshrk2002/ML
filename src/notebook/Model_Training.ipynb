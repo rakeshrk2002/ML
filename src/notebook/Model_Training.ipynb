{
 "cells": [
  {
   "cell_type": "code",
   "execution_count": 4,
   "metadata": {},
   "outputs": [],
   "source": [
    "import pandas as pd \n",
    "import numpy as np \n",
    "import seaborn as sns \n",
    "import matplotlib.pyplot as plt\n",
    "\n",
    "#modelling\n",
    "from sklearn.metrics import mean_squared_error,r2_score, mean_absolute_error\n",
    "from sklearn.neighbors import KNeighborsRegressor\n",
    "from sklearn.tree import DecisionTreeRegressor\n",
    "from sklearn.ensemble import RandomForestRegressor,AdaBoostRegressor\n",
    "from sklearn.svm import SVR\n",
    "from sklearn.linear_model import LinearRegression,Ridge,Lasso\n",
    "from sklearn.model_selection import RandomizedSearchCV\n",
    "from catboost import CatBoostRegressor\n",
    "from xgboost import XGBRegressor\n",
    "import warnings\n"
   ]
  },
  {
   "cell_type": "code",
   "execution_count": 6,
   "metadata": {},
   "outputs": [
    {
     "data": {
      "text/html": [
       "<div>\n",
       "<style scoped>\n",
       "    .dataframe tbody tr th:only-of-type {\n",
       "        vertical-align: middle;\n",
       "    }\n",
       "\n",
       "    .dataframe tbody tr th {\n",
       "        vertical-align: top;\n",
       "    }\n",
       "\n",
       "    .dataframe thead th {\n",
       "        text-align: right;\n",
       "    }\n",
       "</style>\n",
       "<table border=\"1\" class=\"dataframe\">\n",
       "  <thead>\n",
       "    <tr style=\"text-align: right;\">\n",
       "      <th></th>\n",
       "      <th>gender</th>\n",
       "      <th>race/ethnicity</th>\n",
       "      <th>parental level of education</th>\n",
       "      <th>lunch</th>\n",
       "      <th>test preparation course</th>\n",
       "      <th>math score</th>\n",
       "      <th>reading score</th>\n",
       "      <th>writing score</th>\n",
       "    </tr>\n",
       "  </thead>\n",
       "  <tbody>\n",
       "    <tr>\n",
       "      <th>0</th>\n",
       "      <td>female</td>\n",
       "      <td>group B</td>\n",
       "      <td>bachelor's degree</td>\n",
       "      <td>standard</td>\n",
       "      <td>none</td>\n",
       "      <td>72</td>\n",
       "      <td>72</td>\n",
       "      <td>74</td>\n",
       "    </tr>\n",
       "    <tr>\n",
       "      <th>1</th>\n",
       "      <td>female</td>\n",
       "      <td>group C</td>\n",
       "      <td>some college</td>\n",
       "      <td>standard</td>\n",
       "      <td>completed</td>\n",
       "      <td>69</td>\n",
       "      <td>90</td>\n",
       "      <td>88</td>\n",
       "    </tr>\n",
       "    <tr>\n",
       "      <th>2</th>\n",
       "      <td>female</td>\n",
       "      <td>group B</td>\n",
       "      <td>master's degree</td>\n",
       "      <td>standard</td>\n",
       "      <td>none</td>\n",
       "      <td>90</td>\n",
       "      <td>95</td>\n",
       "      <td>93</td>\n",
       "    </tr>\n",
       "    <tr>\n",
       "      <th>3</th>\n",
       "      <td>male</td>\n",
       "      <td>group A</td>\n",
       "      <td>associate's degree</td>\n",
       "      <td>free/reduced</td>\n",
       "      <td>none</td>\n",
       "      <td>47</td>\n",
       "      <td>57</td>\n",
       "      <td>44</td>\n",
       "    </tr>\n",
       "    <tr>\n",
       "      <th>4</th>\n",
       "      <td>male</td>\n",
       "      <td>group C</td>\n",
       "      <td>some college</td>\n",
       "      <td>standard</td>\n",
       "      <td>none</td>\n",
       "      <td>76</td>\n",
       "      <td>78</td>\n",
       "      <td>75</td>\n",
       "    </tr>\n",
       "  </tbody>\n",
       "</table>\n",
       "</div>"
      ],
      "text/plain": [
       "   gender race/ethnicity parental level of education         lunch  \\\n",
       "0  female        group B           bachelor's degree      standard   \n",
       "1  female        group C                some college      standard   \n",
       "2  female        group B             master's degree      standard   \n",
       "3    male        group A          associate's degree  free/reduced   \n",
       "4    male        group C                some college      standard   \n",
       "\n",
       "  test preparation course  math score  reading score  writing score  \n",
       "0                    none          72             72             74  \n",
       "1               completed          69             90             88  \n",
       "2                    none          90             95             93  \n",
       "3                    none          47             57             44  \n",
       "4                    none          76             78             75  "
      ]
     },
     "execution_count": 6,
     "metadata": {},
     "output_type": "execute_result"
    }
   ],
   "source": [
    "df = pd.read_csv('data\\Stud_performance.csv')\n",
    "df.head()"
   ]
  },
  {
   "cell_type": "code",
   "execution_count": 7,
   "metadata": {},
   "outputs": [],
   "source": [
    "X = df.drop(columns=[\"math score\"], axis =1)\n",
    "y = df['math score']"
   ]
  },
  {
   "cell_type": "code",
   "execution_count": 8,
   "metadata": {},
   "outputs": [
    {
     "data": {
      "text/html": [
       "<div>\n",
       "<style scoped>\n",
       "    .dataframe tbody tr th:only-of-type {\n",
       "        vertical-align: middle;\n",
       "    }\n",
       "\n",
       "    .dataframe tbody tr th {\n",
       "        vertical-align: top;\n",
       "    }\n",
       "\n",
       "    .dataframe thead th {\n",
       "        text-align: right;\n",
       "    }\n",
       "</style>\n",
       "<table border=\"1\" class=\"dataframe\">\n",
       "  <thead>\n",
       "    <tr style=\"text-align: right;\">\n",
       "      <th></th>\n",
       "      <th>gender</th>\n",
       "      <th>race/ethnicity</th>\n",
       "      <th>parental level of education</th>\n",
       "      <th>lunch</th>\n",
       "      <th>test preparation course</th>\n",
       "      <th>reading score</th>\n",
       "      <th>writing score</th>\n",
       "    </tr>\n",
       "  </thead>\n",
       "  <tbody>\n",
       "    <tr>\n",
       "      <th>0</th>\n",
       "      <td>female</td>\n",
       "      <td>group B</td>\n",
       "      <td>bachelor's degree</td>\n",
       "      <td>standard</td>\n",
       "      <td>none</td>\n",
       "      <td>72</td>\n",
       "      <td>74</td>\n",
       "    </tr>\n",
       "    <tr>\n",
       "      <th>1</th>\n",
       "      <td>female</td>\n",
       "      <td>group C</td>\n",
       "      <td>some college</td>\n",
       "      <td>standard</td>\n",
       "      <td>completed</td>\n",
       "      <td>90</td>\n",
       "      <td>88</td>\n",
       "    </tr>\n",
       "    <tr>\n",
       "      <th>2</th>\n",
       "      <td>female</td>\n",
       "      <td>group B</td>\n",
       "      <td>master's degree</td>\n",
       "      <td>standard</td>\n",
       "      <td>none</td>\n",
       "      <td>95</td>\n",
       "      <td>93</td>\n",
       "    </tr>\n",
       "    <tr>\n",
       "      <th>3</th>\n",
       "      <td>male</td>\n",
       "      <td>group A</td>\n",
       "      <td>associate's degree</td>\n",
       "      <td>free/reduced</td>\n",
       "      <td>none</td>\n",
       "      <td>57</td>\n",
       "      <td>44</td>\n",
       "    </tr>\n",
       "    <tr>\n",
       "      <th>4</th>\n",
       "      <td>male</td>\n",
       "      <td>group C</td>\n",
       "      <td>some college</td>\n",
       "      <td>standard</td>\n",
       "      <td>none</td>\n",
       "      <td>78</td>\n",
       "      <td>75</td>\n",
       "    </tr>\n",
       "  </tbody>\n",
       "</table>\n",
       "</div>"
      ],
      "text/plain": [
       "   gender race/ethnicity parental level of education         lunch  \\\n",
       "0  female        group B           bachelor's degree      standard   \n",
       "1  female        group C                some college      standard   \n",
       "2  female        group B             master's degree      standard   \n",
       "3    male        group A          associate's degree  free/reduced   \n",
       "4    male        group C                some college      standard   \n",
       "\n",
       "  test preparation course  reading score  writing score  \n",
       "0                    none             72             74  \n",
       "1               completed             90             88  \n",
       "2                    none             95             93  \n",
       "3                    none             57             44  \n",
       "4                    none             78             75  "
      ]
     },
     "execution_count": 8,
     "metadata": {},
     "output_type": "execute_result"
    }
   ],
   "source": [
    "X.head()\n"
   ]
  },
  {
   "cell_type": "code",
   "execution_count": 9,
   "metadata": {},
   "outputs": [
    {
     "name": "stdout",
     "output_type": "stream",
     "text": [
      "['reading score', 'writing score']\n"
     ]
    },
    {
     "data": {
      "text/plain": [
       "['gender',\n",
       " 'race/ethnicity',\n",
       " 'parental level of education',\n",
       " 'lunch',\n",
       " 'test preparation course']"
      ]
     },
     "execution_count": 9,
     "metadata": {},
     "output_type": "execute_result"
    }
   ],
   "source": [
    "# Seperated categorical and numerical columns\n",
    "n_features = [feature for feature in df.columns if df[feature].dtype != 'O'  and feature != 'math score']\n",
    "c_features = [feature for feature in df.columns if df[feature].dtype =='O']\n",
    "# n_features = X.select_dtypes(exclude=\"object\").columns\n",
    "# c_features = X.select_dtypes(include=\"object\").columns\n",
    "print(n_features) \n",
    "c_features\n"
   ]
  },
  {
   "cell_type": "code",
   "execution_count": 10,
   "metadata": {},
   "outputs": [],
   "source": [
    "from sklearn.preprocessing import OneHotEncoder, StandardScaler\n",
    "from sklearn.compose import ColumnTransformer\n",
    "\n",
    "numeric_transformer = StandardScaler()\n",
    "OneHot_transformer = OneHotEncoder()\n",
    "\n",
    "preprocessor = ColumnTransformer(\n",
    "    [\n",
    "        (\"OneHotEncoder\",OneHot_transformer,c_features),\n",
    "        (\"StandardScaler\",numeric_transformer, n_features)\n",
    "    ]\n",
    ")"
   ]
  },
  {
   "cell_type": "code",
   "execution_count": 11,
   "metadata": {},
   "outputs": [],
   "source": [
    "X = preprocessor.fit_transform(X)"
   ]
  },
  {
   "cell_type": "code",
   "execution_count": 12,
   "metadata": {},
   "outputs": [
    {
     "data": {
      "text/plain": [
       "array([[ 1.        ,  0.        ,  0.        , ...,  1.        ,\n",
       "         0.19399858,  0.39149181],\n",
       "       [ 1.        ,  0.        ,  0.        , ...,  0.        ,\n",
       "         1.42747598,  1.31326868],\n",
       "       [ 1.        ,  0.        ,  0.        , ...,  1.        ,\n",
       "         1.77010859,  1.64247471],\n",
       "       ...,\n",
       "       [ 1.        ,  0.        ,  0.        , ...,  0.        ,\n",
       "         0.12547206, -0.20107904],\n",
       "       [ 1.        ,  0.        ,  0.        , ...,  0.        ,\n",
       "         0.60515772,  0.58901542],\n",
       "       [ 1.        ,  0.        ,  0.        , ...,  1.        ,\n",
       "         1.15336989,  1.18158627]])"
      ]
     },
     "execution_count": 12,
     "metadata": {},
     "output_type": "execute_result"
    }
   ],
   "source": [
    "X"
   ]
  },
  {
   "cell_type": "code",
   "execution_count": 13,
   "metadata": {},
   "outputs": [
    {
     "data": {
      "text/plain": [
       "((800, 19), (200, 19))"
      ]
     },
     "execution_count": 13,
     "metadata": {},
     "output_type": "execute_result"
    }
   ],
   "source": [
    "from sklearn.model_selection import train_test_split\n",
    "\n",
    "X_train, X_test, y_train, y_test = train_test_split(X,y,test_size=0.2,random_state=42)\n",
    "X_train.shape, X_test.shape"
   ]
  },
  {
   "cell_type": "markdown",
   "metadata": {},
   "source": [
    "# Created an evaluate function to know all the metrics"
   ]
  },
  {
   "cell_type": "code",
   "execution_count": 14,
   "metadata": {},
   "outputs": [],
   "source": [
    "def evaluate_model(true,predicted):\n",
    "    mae = mean_absolute_error(true,predicted)\n",
    "    mse = mean_squared_error(true,predicted)\n",
    "    rmse = np.sqrt(mean_squared_error(true,predicted))\n",
    "    r2_square = r2_score(true,predicted)\n",
    "    \n",
    "    return mae,mse,rmse,r2_square\n",
    "\n"
   ]
  },
  {
   "cell_type": "code",
   "execution_count": 15,
   "metadata": {},
   "outputs": [
    {
     "name": "stdout",
     "output_type": "stream",
     "text": [
      "Training Linear Regression...\n",
      "\n",
      "Model performance for training set\n",
      "Root Mean Squared Error: 28.3808\n",
      "Mean Absolute Error: 4.2788\n",
      "Mean Squared Error: 0.8741\n",
      "R² score: 5.3274\n",
      "\n",
      "-------------------------------\n",
      "\n",
      "Model performance for test set\n",
      "Root Mean Squared Error: 29.2638\n",
      "Mean Absolute Error: 4.2259\n",
      "Mean Squared Error: 0.8797\n",
      "R² score: 5.4096\n",
      "\n",
      "-------------------------------\n",
      "Training Lasso...\n",
      "\n",
      "Model performance for training set\n",
      "Root Mean Squared Error: 43.4784\n",
      "Mean Absolute Error: 5.2063\n",
      "Mean Squared Error: 0.8071\n",
      "R² score: 6.5938\n",
      "\n",
      "-------------------------------\n",
      "\n",
      "Model performance for test set\n",
      "Root Mean Squared Error: 42.5064\n",
      "Mean Absolute Error: 5.1579\n",
      "Mean Squared Error: 0.8253\n",
      "R² score: 6.5197\n",
      "\n",
      "-------------------------------\n",
      "Training Ridge...\n",
      "\n",
      "Model performance for training set\n",
      "Root Mean Squared Error: 28.3378\n",
      "Mean Absolute Error: 4.2650\n",
      "Mean Squared Error: 0.8743\n",
      "R² score: 5.3233\n",
      "\n",
      "-------------------------------\n",
      "\n",
      "Model performance for test set\n",
      "Root Mean Squared Error: 29.0563\n",
      "Mean Absolute Error: 4.2111\n",
      "Mean Squared Error: 0.8806\n",
      "R² score: 5.3904\n",
      "\n",
      "-------------------------------\n",
      "Training K-Neighbors Regressor...\n"
     ]
    },
    {
     "name": "stderr",
     "output_type": "stream",
     "text": [
      "c:\\Users\\018017\\OneDrive - Sify Technologies Limited\\Documents\\ineuron\\ML_Project\\ml_env\\lib\\site-packages\\sklearn\\model_selection\\_search.py:307: UserWarning: The total space of parameters 10 is smaller than n_iter=30. Running 10 iterations. For exhaustive searches, use GridSearchCV.\n",
      "  warnings.warn(\n"
     ]
    },
    {
     "name": "stdout",
     "output_type": "stream",
     "text": [
      "Fitting 3 folds for each of 10 candidates, totalling 30 fits\n",
      "Best params for K-Neighbors Regressor: {'weights': 'distance', 'n_neighbors': 11}\n",
      "\n",
      "Model performance for training set\n",
      "Root Mean Squared Error: 0.0781\n",
      "Mean Absolute Error: 0.0188\n",
      "Mean Squared Error: 0.9997\n",
      "R² score: 0.2795\n",
      "\n",
      "-------------------------------\n",
      "\n",
      "Model performance for test set\n",
      "Root Mean Squared Error: 51.5183\n",
      "Mean Absolute Error: 5.5842\n",
      "Mean Squared Error: 0.7883\n",
      "R² score: 7.1776\n",
      "\n",
      "-------------------------------\n",
      "Training Decision Tree...\n",
      "Fitting 3 folds for each of 30 candidates, totalling 90 fits\n",
      "Best params for Decision Tree: {'min_samples_split': 5, 'max_depth': 5, 'criterion': 'squared_error'}\n",
      "\n",
      "Model performance for training set\n",
      "Root Mean Squared Error: 32.6874\n",
      "Mean Absolute Error: 4.6396\n",
      "Mean Squared Error: 0.8550\n",
      "R² score: 5.7173\n",
      "\n",
      "-------------------------------\n",
      "\n",
      "Model performance for test set\n",
      "Root Mean Squared Error: 42.7716\n",
      "Mean Absolute Error: 4.9315\n",
      "Mean Squared Error: 0.8242\n",
      "R² score: 6.5400\n",
      "\n",
      "-------------------------------\n",
      "Training Random Forest Regressor...\n",
      "Fitting 3 folds for each of 30 candidates, totalling 90 fits\n",
      "Best params for Random Forest Regressor: {'n_estimators': 200, 'min_samples_split': 10, 'max_depth': 20}\n",
      "\n",
      "Model performance for training set\n",
      "Root Mean Squared Error: 15.8152\n",
      "Mean Absolute Error: 3.2089\n",
      "Mean Squared Error: 0.9298\n",
      "R² score: 3.9768\n",
      "\n",
      "-------------------------------\n",
      "\n",
      "Model performance for test set\n",
      "Root Mean Squared Error: 34.8515\n",
      "Mean Absolute Error: 4.5131\n",
      "Mean Squared Error: 0.8568\n",
      "R² score: 5.9035\n",
      "\n",
      "-------------------------------\n",
      "Training XGBRegressor...\n",
      "Fitting 3 folds for each of 30 candidates, totalling 90 fits\n",
      "Best params for XGBRegressor: {'n_estimators': 100, 'max_depth': 3, 'learning_rate': 0.1}\n",
      "\n",
      "Model performance for training set\n",
      "Root Mean Squared Error: 22.3378\n",
      "Mean Absolute Error: 3.7901\n",
      "Mean Squared Error: 0.9009\n",
      "R² score: 4.7263\n",
      "\n",
      "-------------------------------\n",
      "\n",
      "Model performance for test set\n",
      "Root Mean Squared Error: 32.0485\n",
      "Mean Absolute Error: 4.3732\n",
      "Mean Squared Error: 0.8683\n",
      "R² score: 5.6611\n",
      "\n",
      "-------------------------------\n",
      "Training AdaBoost Regressor...\n",
      "Fitting 3 folds for each of 16 candidates, totalling 48 fits\n"
     ]
    },
    {
     "name": "stderr",
     "output_type": "stream",
     "text": [
      "c:\\Users\\018017\\OneDrive - Sify Technologies Limited\\Documents\\ineuron\\ML_Project\\ml_env\\lib\\site-packages\\sklearn\\model_selection\\_search.py:307: UserWarning: The total space of parameters 16 is smaller than n_iter=30. Running 16 iterations. For exhaustive searches, use GridSearchCV.\n",
      "  warnings.warn(\n"
     ]
    },
    {
     "name": "stdout",
     "output_type": "stream",
     "text": [
      "Best params for AdaBoost Regressor: {'n_estimators': 200, 'learning_rate': 0.2}\n",
      "\n",
      "Model performance for training set\n",
      "Root Mean Squared Error: 34.3636\n",
      "Mean Absolute Error: 4.7921\n",
      "Mean Squared Error: 0.8476\n",
      "R² score: 5.8621\n",
      "\n",
      "-------------------------------\n",
      "\n",
      "Model performance for test set\n",
      "Root Mean Squared Error: 36.9969\n",
      "Mean Absolute Error: 4.7357\n",
      "Mean Squared Error: 0.8480\n",
      "R² score: 6.0825\n",
      "\n",
      "-------------------------------\n",
      "Model List: ['Linear Regression', 'Lasso', 'Ridge', 'K-Neighbors Regressor', 'Decision Tree', 'Random Forest Regressor', 'XGBRegressor', 'AdaBoost Regressor']\n",
      "R² Scores on Test Set: [5.40960336750764, 6.51969453566742, 5.390387016935638, 7.177626107603356, 6.540000789493743, 5.903515547221972, 5.661136062500646, 6.0825074121315]\n",
      "R² Scores on Training Set: [5.327359474652332, 6.593815587795566, 5.323324922741654, 0.27950849718949117, 5.71728864854146, 3.9768276691191824, 4.726288659884577, 5.862050091357519]\n"
     ]
    }
   ],
   "source": [
    "models = {\n",
    "    \"Linear Regression\": LinearRegression(),\n",
    "    \"Lasso\": Lasso(),\n",
    "    \"Ridge\": Ridge(),\n",
    "    \"K-Neighbors Regressor\": KNeighborsRegressor(),\n",
    "    \"Decision Tree\": DecisionTreeRegressor(),\n",
    "    \"Random Forest Regressor\": RandomForestRegressor(),\n",
    "    \"XGBRegressor\": XGBRegressor(),\n",
    "    \"AdaBoost Regressor\": AdaBoostRegressor()\n",
    "}\n",
    "\n",
    "params = {\n",
    "    \"Decision Tree\": {\n",
    "        'criterion': ['squared_error', 'friedman_mse', 'absolute_error', 'poisson'],\n",
    "        'max_depth': [None, 5, 10, 20],\n",
    "        'min_samples_split': [2, 5, 10]\n",
    "    },\n",
    "    \"Random Forest Regressor\": {\n",
    "        'n_estimators': [50, 100, 200, 300],\n",
    "        'max_depth': [None, 10, 20, 30],\n",
    "        'min_samples_split': [2, 5, 10]\n",
    "    },\n",
    "    \"XGBRegressor\": {\n",
    "        'learning_rate': [0.01, 0.05, 0.1, 0.2],\n",
    "        'n_estimators': [50, 100, 200, 300],\n",
    "        'max_depth': [3, 5, 7, 9]\n",
    "    },\n",
    "    \"K-Neighbors Regressor\": {\n",
    "        'n_neighbors': [3, 5, 7, 9, 11],\n",
    "        'weights': ['uniform', 'distance']\n",
    "    },\n",
    "    \"AdaBoost Regressor\": {\n",
    "        'n_estimators': [50, 100, 200, 300],\n",
    "        'learning_rate': [0.01, 0.05, 0.1, 0.2]\n",
    "    },\n",
    "    \"Linear Regressor\":{}\n",
    "}\n",
    "\n",
    "model_list = []\n",
    "r2_List_test = []\n",
    "r2_list_train = []\n",
    "\n",
    "for model_name, model in models.items():\n",
    "    print(f\"Training {model_name}...\")\n",
    "\n",
    "    if model_name in params:\n",
    "        search = RandomizedSearchCV(\n",
    "            estimator=model,\n",
    "            param_distributions=params[model_name],\n",
    "            n_iter=30,\n",
    "            cv=3,\n",
    "            scoring='r2',\n",
    "            n_jobs=-1,\n",
    "            verbose=1,\n",
    "            random_state=42\n",
    "        )\n",
    "        search.fit(X_train, y_train)\n",
    "        model = search.best_estimator_\n",
    "        print(f\"Best params for {model_name}: {search.best_params_}\")\n",
    "\n",
    "    else:\n",
    "        model.fit(X_train, y_train)\n",
    "\n",
    "    # Make the predictions\n",
    "    y_train_pred = model.predict(X_train)\n",
    "    y_test_pred = model.predict(X_test)\n",
    "\n",
    "    # Evaluate the model\n",
    "    model_train_mae, model_train_rmse, model_train_r2, model_train_mse = evaluate_model(y_train, y_train_pred)\n",
    "    model_test_mae, model_test_rmse, model_test_r2, model_test_mse = evaluate_model(y_test, y_test_pred)\n",
    "\n",
    "    print(\"\\nModel performance for training set\")\n",
    "    print(f\"Root Mean Squared Error: {model_train_rmse:.4f}\")\n",
    "    print(f\"Mean Absolute Error: {model_train_mae:.4f}\")\n",
    "    print(f\"Mean Squared Error: {model_train_mse:.4f}\")\n",
    "    print(f\"R² score: {model_train_r2:.4f}\")\n",
    "    print(\"\\n-------------------------------\")\n",
    "    print(\"\\nModel performance for test set\")\n",
    "    print(f\"Root Mean Squared Error: {model_test_rmse:.4f}\")\n",
    "    print(f\"Mean Absolute Error: {model_test_mae:.4f}\")\n",
    "    print(f\"Mean Squared Error: {model_test_mse:.4f}\")\n",
    "    print(f\"R² score: {model_test_r2:.4f}\")\n",
    "    print(\"\\n-------------------------------\")\n",
    "\n",
    "    # Store the results\n",
    "    model_list.append(model_name)\n",
    "    r2_List_test.append(model_test_r2)\n",
    "    r2_list_train.append(model_train_r2)\n",
    "\n",
    "print(\"Model List:\", model_list)\n",
    "print(\"R² Scores on Test Set:\", r2_List_test)\n",
    "print(\"R² Scores on Training Set:\", r2_list_train)"
   ]
  },
  {
   "cell_type": "markdown",
   "metadata": {},
   "source": [
    "# Results"
   ]
  },
  {
   "cell_type": "code",
   "execution_count": 16,
   "metadata": {},
   "outputs": [
    {
     "data": {
      "text/html": [
       "<div>\n",
       "<style scoped>\n",
       "    .dataframe tbody tr th:only-of-type {\n",
       "        vertical-align: middle;\n",
       "    }\n",
       "\n",
       "    .dataframe tbody tr th {\n",
       "        vertical-align: top;\n",
       "    }\n",
       "\n",
       "    .dataframe thead th {\n",
       "        text-align: right;\n",
       "    }\n",
       "</style>\n",
       "<table border=\"1\" class=\"dataframe\">\n",
       "  <thead>\n",
       "    <tr style=\"text-align: right;\">\n",
       "      <th></th>\n",
       "      <th>Model Name</th>\n",
       "      <th>Train R2 Score</th>\n",
       "      <th>Test R2 Score</th>\n",
       "      <th>Difference</th>\n",
       "    </tr>\n",
       "  </thead>\n",
       "  <tbody>\n",
       "    <tr>\n",
       "      <th>0</th>\n",
       "      <td>Linear Regression</td>\n",
       "      <td>5.327359</td>\n",
       "      <td>5.409603</td>\n",
       "      <td>0.082244</td>\n",
       "    </tr>\n",
       "    <tr>\n",
       "      <th>1</th>\n",
       "      <td>Lasso</td>\n",
       "      <td>6.593816</td>\n",
       "      <td>6.519695</td>\n",
       "      <td>0.074121</td>\n",
       "    </tr>\n",
       "    <tr>\n",
       "      <th>2</th>\n",
       "      <td>Ridge</td>\n",
       "      <td>5.323325</td>\n",
       "      <td>5.390387</td>\n",
       "      <td>0.067062</td>\n",
       "    </tr>\n",
       "    <tr>\n",
       "      <th>3</th>\n",
       "      <td>K-Neighbors Regressor</td>\n",
       "      <td>0.279508</td>\n",
       "      <td>7.177626</td>\n",
       "      <td>6.898118</td>\n",
       "    </tr>\n",
       "    <tr>\n",
       "      <th>4</th>\n",
       "      <td>Decision Tree</td>\n",
       "      <td>5.717289</td>\n",
       "      <td>6.540001</td>\n",
       "      <td>0.822712</td>\n",
       "    </tr>\n",
       "    <tr>\n",
       "      <th>5</th>\n",
       "      <td>Random Forest Regressor</td>\n",
       "      <td>3.976828</td>\n",
       "      <td>5.903516</td>\n",
       "      <td>1.926688</td>\n",
       "    </tr>\n",
       "    <tr>\n",
       "      <th>6</th>\n",
       "      <td>XGBRegressor</td>\n",
       "      <td>4.726289</td>\n",
       "      <td>5.661136</td>\n",
       "      <td>0.934847</td>\n",
       "    </tr>\n",
       "    <tr>\n",
       "      <th>7</th>\n",
       "      <td>AdaBoost Regressor</td>\n",
       "      <td>5.862050</td>\n",
       "      <td>6.082507</td>\n",
       "      <td>0.220457</td>\n",
       "    </tr>\n",
       "  </tbody>\n",
       "</table>\n",
       "</div>"
      ],
      "text/plain": [
       "                Model Name  Train R2 Score  Test R2 Score  Difference\n",
       "0        Linear Regression        5.327359       5.409603    0.082244\n",
       "1                    Lasso        6.593816       6.519695    0.074121\n",
       "2                    Ridge        5.323325       5.390387    0.067062\n",
       "3    K-Neighbors Regressor        0.279508       7.177626    6.898118\n",
       "4            Decision Tree        5.717289       6.540001    0.822712\n",
       "5  Random Forest Regressor        3.976828       5.903516    1.926688\n",
       "6             XGBRegressor        4.726289       5.661136    0.934847\n",
       "7       AdaBoost Regressor        5.862050       6.082507    0.220457"
      ]
     },
     "execution_count": 16,
     "metadata": {},
     "output_type": "execute_result"
    }
   ],
   "source": [
    "import pandas as pd\n",
    "\n",
    "df_results = pd.DataFrame({\n",
    "    \"Model Name\": model_list,\n",
    "    \"Train R2 Score\": r2_list_train,\n",
    "    \"Test R2 Score\": r2_List_test\n",
    "})\n",
    "df_results[\"Difference\"] = (df_results[\"Train R2 Score\"] - df_results[\"Test R2 Score\"]).abs()\n",
    "\n",
    "pd.options.display.float_format = '{:.6f}'.format\n",
    "\n",
    "df_results"
   ]
  },
  {
   "cell_type": "markdown",
   "metadata": {},
   "source": [
    "# Linear Regression score"
   ]
  },
  {
   "cell_type": "code",
   "execution_count": 22,
   "metadata": {},
   "outputs": [
    {
     "name": "stdout",
     "output_type": "stream",
     "text": [
      "Accuracy of Linear Regression Model : 87.97\n"
     ]
    }
   ],
   "source": [
    "lin_model = LinearRegression(fit_intercept=True)\n",
    "lin_model = lin_model.fit(X_train, y_train)\n",
    "y_pred = lin_model.predict(X_test)\n",
    "score = r2_score(y_test,y_pred)*100\n",
    "print(\"Accuracy of Linear Regression Model : %.2f\" %score)"
   ]
  },
  {
   "cell_type": "markdown",
   "metadata": {},
   "source": [
    "# plotting y_pred and y_test"
   ]
  },
  {
   "cell_type": "code",
   "execution_count": 19,
   "metadata": {},
   "outputs": [
    {
     "data": {
      "image/png": "[encoded data removed]",
      "text/plain": [
       "<Figure size 640x480 with 1 Axes>"
      ]
     },
     "metadata": {},
     "output_type": "display_data"
    }
   ],
   "source": [
    "plt.scatter(y_test,y_pred)\n",
    "plt.xlabel(\"Actual Value\")\n",
    "plt.ylabel(\"Predicted Value\")\n",
    "plt.show()"
   ]
  },
  {
   "cell_type": "code",
   "execution_count": 20,
   "metadata": {},
   "outputs": [
    {
     "data": {
      "text/plain": [
       "<Axes: xlabel='math score'>"
      ]
     },
     "execution_count": 20,
     "metadata": {},
     "output_type": "execute_result"
    },
    {
     "data": {
      "image/png": "[encoded data removed]",
      "text/plain": [
       "<Figure size 640x480 with 1 Axes>"
      ]
     },
     "metadata": {},
     "output_type": "display_data"
    }
   ],
   "source": [
    "sns.regplot(x=y_test,y=y_pred,ci=None,color='red')"
   ]
  },
  {
   "cell_type": "code",
   "execution_count": 21,
   "metadata": {},
   "outputs": [
    {
     "name": "stdout",
     "output_type": "stream",
     "text": [
      "Accuracy for Lasso model : 82.53\n"
     ]
    }
   ],
   "source": [
    "Lasso_model = Lasso(fit_intercept=True)\n",
    "Lasso_model.fit(X_train, y_train)\n",
    "y_pred = Lasso_model.predict(X_test)\n",
    "score = r2_score(y_test,y_pred)*100\n",
    "print(\"Accuracy for Lasso model : %.2f\" %score)"
   ]
  }
 ],
 "metadata": {
  "kernelspec": {
   "display_name": "Python 3",
   "language": "python",
   "name": "python3"
  },
  "language_info": {
   "codemirror_mode": {
    "name": "ipython",
    "version": 3
   },
   "file_extension": ".py",
   "mimetype": "text/x-python",
   "name": "python",
   "nbconvert_exporter": "python",
   "pygments_lexer": "ipython3",
   "version": "3.8.0"
  }
 },
 "nbformat": 4,
 "nbformat_minor": 2
}
