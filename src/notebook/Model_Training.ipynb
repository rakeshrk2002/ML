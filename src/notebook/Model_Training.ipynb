{
 "cells": [
  {
   "cell_type": "code",
   "execution_count": 117,
   "metadata": {},
   "outputs": [],
   "source": [
    "import pandas as pd \n",
    "import numpy as np \n",
    "import seaborn as sns \n",
    "import matplotlib.pyplot as plt\n",
    "\n",
    "#modelling\n",
    "from sklearn.metrics import mean_squared_error,r2_score, mean_absolute_error\n",
    "from sklearn.neighbors import KNeighborsRegressor\n",
    "from sklearn.tree import DecisionTreeRegressor\n",
    "from sklearn.ensemble import RandomForestRegressor,AdaBoostRegressor\n",
    "from sklearn.svm import SVR\n",
    "from sklearn.linear_model import LinearRegression,Ridge,Lasso\n",
    "from sklearn.model_selection import RandomizedSearchCV\n",
    "from catboost import CatBoostRegressor\n",
    "from xgboost import XGBRegressor\n",
    "import warnings\n"
   ]
  },
  {
   "cell_type": "code",
   "execution_count": 155,
   "metadata": {},
   "outputs": [
    {
     "data": {
      "text/html": [
       "<div>\n",
       "<style scoped>\n",
       "    .dataframe tbody tr th:only-of-type {\n",
       "        vertical-align: middle;\n",
       "    }\n",
       "\n",
       "    .dataframe tbody tr th {\n",
       "        vertical-align: top;\n",
       "    }\n",
       "\n",
       "    .dataframe thead th {\n",
       "        text-align: right;\n",
       "    }\n",
       "</style>\n",
       "<table border=\"1\" class=\"dataframe\">\n",
       "  <thead>\n",
       "    <tr style=\"text-align: right;\">\n",
       "      <th></th>\n",
       "      <th>gender</th>\n",
       "      <th>race/ethnicity</th>\n",
       "      <th>parental level of education</th>\n",
       "      <th>lunch</th>\n",
       "      <th>test preparation course</th>\n",
       "      <th>math score</th>\n",
       "      <th>reading score</th>\n",
       "      <th>writing score</th>\n",
       "    </tr>\n",
       "  </thead>\n",
       "  <tbody>\n",
       "    <tr>\n",
       "      <th>0</th>\n",
       "      <td>female</td>\n",
       "      <td>group B</td>\n",
       "      <td>bachelor's degree</td>\n",
       "      <td>standard</td>\n",
       "      <td>none</td>\n",
       "      <td>72</td>\n",
       "      <td>72</td>\n",
       "      <td>74</td>\n",
       "    </tr>\n",
       "    <tr>\n",
       "      <th>1</th>\n",
       "      <td>female</td>\n",
       "      <td>group C</td>\n",
       "      <td>some college</td>\n",
       "      <td>standard</td>\n",
       "      <td>completed</td>\n",
       "      <td>69</td>\n",
       "      <td>90</td>\n",
       "      <td>88</td>\n",
       "    </tr>\n",
       "    <tr>\n",
       "      <th>2</th>\n",
       "      <td>female</td>\n",
       "      <td>group B</td>\n",
       "      <td>master's degree</td>\n",
       "      <td>standard</td>\n",
       "      <td>none</td>\n",
       "      <td>90</td>\n",
       "      <td>95</td>\n",
       "      <td>93</td>\n",
       "    </tr>\n",
       "    <tr>\n",
       "      <th>3</th>\n",
       "      <td>male</td>\n",
       "      <td>group A</td>\n",
       "      <td>associate's degree</td>\n",
       "      <td>free/reduced</td>\n",
       "      <td>none</td>\n",
       "      <td>47</td>\n",
       "      <td>57</td>\n",
       "      <td>44</td>\n",
       "    </tr>\n",
       "    <tr>\n",
       "      <th>4</th>\n",
       "      <td>male</td>\n",
       "      <td>group C</td>\n",
       "      <td>some college</td>\n",
       "      <td>standard</td>\n",
       "      <td>none</td>\n",
       "      <td>76</td>\n",
       "      <td>78</td>\n",
       "      <td>75</td>\n",
       "    </tr>\n",
       "  </tbody>\n",
       "</table>\n",
       "</div>"
      ],
      "text/plain": [
       "   gender race/ethnicity  ... reading score writing score\n",
       "0  female        group B  ...            72            74\n",
       "1  female        group C  ...            90            88\n",
       "2  female        group B  ...            95            93\n",
       "3    male        group A  ...            57            44\n",
       "4    male        group C  ...            78            75\n",
       "\n",
       "[5 rows x 8 columns]"
      ]
     },
     "execution_count": 155,
     "metadata": {},
     "output_type": "execute_result"
    }
   ],
   "source": [
    "df = pd.read_csv('data\\Stud_performance.csv')\n",
    "df.head()"
   ]
  },
  {
   "cell_type": "code",
   "execution_count": 234,
   "metadata": {},
   "outputs": [],
   "source": [
    "X = df.drop(columns=[\"math score\"], axis =1)\n",
    "y = df['math score']"
   ]
  },
  {
   "cell_type": "code",
   "execution_count": 235,
   "metadata": {},
   "outputs": [
    {
     "data": {
      "text/html": [
       "<div>\n",
       "<style scoped>\n",
       "    .dataframe tbody tr th:only-of-type {\n",
       "        vertical-align: middle;\n",
       "    }\n",
       "\n",
       "    .dataframe tbody tr th {\n",
       "        vertical-align: top;\n",
       "    }\n",
       "\n",
       "    .dataframe thead th {\n",
       "        text-align: right;\n",
       "    }\n",
       "</style>\n",
       "<table border=\"1\" class=\"dataframe\">\n",
       "  <thead>\n",
       "    <tr style=\"text-align: right;\">\n",
       "      <th></th>\n",
       "      <th>gender</th>\n",
       "      <th>race/ethnicity</th>\n",
       "      <th>parental level of education</th>\n",
       "      <th>lunch</th>\n",
       "      <th>test preparation course</th>\n",
       "      <th>reading score</th>\n",
       "      <th>writing score</th>\n",
       "    </tr>\n",
       "  </thead>\n",
       "  <tbody>\n",
       "    <tr>\n",
       "      <th>0</th>\n",
       "      <td>female</td>\n",
       "      <td>group B</td>\n",
       "      <td>bachelor's degree</td>\n",
       "      <td>standard</td>\n",
       "      <td>none</td>\n",
       "      <td>72</td>\n",
       "      <td>74</td>\n",
       "    </tr>\n",
       "    <tr>\n",
       "      <th>1</th>\n",
       "      <td>female</td>\n",
       "      <td>group C</td>\n",
       "      <td>some college</td>\n",
       "      <td>standard</td>\n",
       "      <td>completed</td>\n",
       "      <td>90</td>\n",
       "      <td>88</td>\n",
       "    </tr>\n",
       "    <tr>\n",
       "      <th>2</th>\n",
       "      <td>female</td>\n",
       "      <td>group B</td>\n",
       "      <td>master's degree</td>\n",
       "      <td>standard</td>\n",
       "      <td>none</td>\n",
       "      <td>95</td>\n",
       "      <td>93</td>\n",
       "    </tr>\n",
       "    <tr>\n",
       "      <th>3</th>\n",
       "      <td>male</td>\n",
       "      <td>group A</td>\n",
       "      <td>associate's degree</td>\n",
       "      <td>free/reduced</td>\n",
       "      <td>none</td>\n",
       "      <td>57</td>\n",
       "      <td>44</td>\n",
       "    </tr>\n",
       "    <tr>\n",
       "      <th>4</th>\n",
       "      <td>male</td>\n",
       "      <td>group C</td>\n",
       "      <td>some college</td>\n",
       "      <td>standard</td>\n",
       "      <td>none</td>\n",
       "      <td>78</td>\n",
       "      <td>75</td>\n",
       "    </tr>\n",
       "  </tbody>\n",
       "</table>\n",
       "</div>"
      ],
      "text/plain": [
       "   gender race/ethnicity  ... reading score writing score\n",
       "0  female        group B  ...            72            74\n",
       "1  female        group C  ...            90            88\n",
       "2  female        group B  ...            95            93\n",
       "3    male        group A  ...            57            44\n",
       "4    male        group C  ...            78            75\n",
       "\n",
       "[5 rows x 7 columns]"
      ]
     },
     "execution_count": 235,
     "metadata": {},
     "output_type": "execute_result"
    }
   ],
   "source": [
    "X.head()\n"
   ]
  },
  {
   "cell_type": "code",
   "execution_count": 236,
   "metadata": {},
   "outputs": [
    {
     "name": "stdout",
     "output_type": "stream",
     "text": [
      "['reading score', 'writing score']\n"
     ]
    },
    {
     "data": {
      "text/plain": [
       "['gender',\n",
       " 'race/ethnicity',\n",
       " 'parental level of education',\n",
       " 'lunch',\n",
       " 'test preparation course']"
      ]
     },
     "execution_count": 236,
     "metadata": {},
     "output_type": "execute_result"
    }
   ],
   "source": [
    "# Seperated categorical and numerical columns\n",
    "n_features = [feature for feature in df.columns if df[feature].dtype != 'O'  and feature != 'math score']\n",
    "c_features = [feature for feature in df.columns if df[feature].dtype =='O']\n",
    "# n_features = X.select_dtypes(exclude=\"object\").columns\n",
    "# c_features = X.select_dtypes(include=\"object\").columns\n",
    "print(n_features) \n",
    "c_features\n"
   ]
  },
  {
   "cell_type": "code",
   "execution_count": 237,
   "metadata": {},
   "outputs": [],
   "source": [
    "from sklearn.preprocessing import OneHotEncoder, StandardScaler\n",
    "from sklearn.compose import ColumnTransformer\n",
    "\n",
    "numeric_transformer = StandardScaler()\n",
    "OneHot_transformer = OneHotEncoder()\n",
    "\n",
    "preprocessor = ColumnTransformer(\n",
    "    [\n",
    "        (\"OneHotEncoder\",OneHot_transformer,c_features),\n",
    "        (\"StandardScaler\",numeric_transformer, n_features)\n",
    "    ]\n",
    ")"
   ]
  },
  {
   "cell_type": "code",
   "execution_count": 238,
   "metadata": {},
   "outputs": [],
   "source": [
    "X = preprocessor.fit_transform(X)"
   ]
  },
  {
   "cell_type": "code",
   "execution_count": 239,
   "metadata": {},
   "outputs": [
    {
     "data": {
      "text/plain": [
       "array([[ 1.        ,  0.        ,  0.        , ...,  1.        ,\n",
       "         0.19399858,  0.39149181],\n",
       "       [ 1.        ,  0.        ,  0.        , ...,  0.        ,\n",
       "         1.42747598,  1.31326868],\n",
       "       [ 1.        ,  0.        ,  0.        , ...,  1.        ,\n",
       "         1.77010859,  1.64247471],\n",
       "       ...,\n",
       "       [ 1.        ,  0.        ,  0.        , ...,  0.        ,\n",
       "         0.12547206, -0.20107904],\n",
       "       [ 1.        ,  0.        ,  0.        , ...,  0.        ,\n",
       "         0.60515772,  0.58901542],\n",
       "       [ 1.        ,  0.        ,  0.        , ...,  1.        ,\n",
       "         1.15336989,  1.18158627]])"
      ]
     },
     "execution_count": 239,
     "metadata": {},
     "output_type": "execute_result"
    }
   ],
   "source": [
    "X"
   ]
  },
  {
   "cell_type": "code",
   "execution_count": 240,
   "metadata": {},
   "outputs": [
    {
     "data": {
      "text/plain": [
       "((800, 19), (200, 19))"
      ]
     },
     "execution_count": 240,
     "metadata": {},
     "output_type": "execute_result"
    }
   ],
   "source": [
    "from sklearn.model_selection import train_test_split\n",
    "\n",
    "X_train, X_test, y_train, y_test = train_test_split(X,y,test_size=0.2,random_state=42)\n",
    "X_train.shape, X_test.shape"
   ]
  },
  {
   "cell_type": "markdown",
   "metadata": {},
   "source": [
    "# Created an evaluate function to know all the metrics"
   ]
  },
  {
   "cell_type": "code",
   "execution_count": 241,
   "metadata": {},
   "outputs": [],
   "source": [
    "def evaluate_model(true,predicted):\n",
    "    mae = mean_absolute_error(true,predicted)\n",
    "    mse = mean_squared_error(true,predicted)\n",
    "    rmse = np.sqrt(mean_squared_error(true,predicted))\n",
    "    r2_square = r2_score(true,predicted)\n",
    "    \n",
    "    return mae,mse,rmse,r2_square"
   ]
  },
  {
   "cell_type": "code",
   "execution_count": 242,
   "metadata": {},
   "outputs": [
    {
     "name": "stdout",
     "output_type": "stream",
     "text": [
      "Linear Regression\n",
      "\n",
      "Model performance for training set\n",
      "Root Mean Squared Error :28.3808\n",
      "Mean Absolute Error :4.2788\n",
      "Mean Squared Error :0.8741\n",
      "R2 score :5.3274\n",
      "\n",
      "-------------------------------\n",
      "\n",
      "Model performance for test set\n",
      "Root Mean Squared Error :29.2638\n",
      "Mean Absolute Error :4.2259\n",
      "Mean Squared Error :0.8797\n",
      "R2 score :5.4096\n",
      "\n",
      "-------------------------------\n",
      "\n",
      "-------------------------------\n",
      "Lasso\n",
      "\n",
      "Model performance for training set\n",
      "Root Mean Squared Error :43.4784\n",
      "Mean Absolute Error :5.2063\n",
      "Mean Squared Error :0.8071\n",
      "R2 score :6.5938\n",
      "\n",
      "-------------------------------\n",
      "\n",
      "Model performance for test set\n",
      "Root Mean Squared Error :42.5064\n",
      "Mean Absolute Error :5.1579\n",
      "Mean Squared Error :0.8253\n",
      "R2 score :6.5197\n",
      "\n",
      "-------------------------------\n",
      "\n",
      "-------------------------------\n",
      "Ridge\n",
      "\n",
      "Model performance for training set\n",
      "Root Mean Squared Error :28.3378\n",
      "Mean Absolute Error :4.2650\n",
      "Mean Squared Error :0.8743\n",
      "R2 score :5.3233\n",
      "\n",
      "-------------------------------\n",
      "\n",
      "Model performance for test set\n",
      "Root Mean Squared Error :29.0563\n",
      "Mean Absolute Error :4.2111\n",
      "Mean Squared Error :0.8806\n",
      "R2 score :5.3904\n",
      "\n",
      "-------------------------------\n",
      "\n",
      "-------------------------------\n",
      "K-Neighbors Regressor\n",
      "\n",
      "Model performance for training set\n",
      "Root Mean Squared Error :32.6294\n",
      "Mean Absolute Error :4.5187\n",
      "Mean Squared Error :0.8553\n",
      "R2 score :5.7122\n",
      "\n",
      "-------------------------------\n",
      "\n",
      "Model performance for test set\n",
      "Root Mean Squared Error :52.5860\n",
      "Mean Absolute Error :5.6160\n",
      "Mean Squared Error :0.7839\n",
      "R2 score :7.2516\n",
      "\n",
      "-------------------------------\n",
      "\n",
      "-------------------------------\n",
      "Decision Tree\n",
      "\n",
      "Model performance for training set\n",
      "Root Mean Squared Error :0.0781\n",
      "Mean Absolute Error :0.0187\n",
      "Mean Squared Error :0.9997\n",
      "R2 score :0.2795\n",
      "\n",
      "-------------------------------\n",
      "\n",
      "Model performance for test set\n",
      "Root Mean Squared Error :65.5700\n",
      "Mean Absolute Error :6.4400\n",
      "Mean Squared Error :0.7305\n",
      "R2 score :8.0975\n",
      "\n",
      "-------------------------------\n",
      "\n",
      "-------------------------------\n",
      "Random Forest Regressor\n",
      "\n",
      "Model performance for training set\n",
      "Root Mean Squared Error :5.2027\n",
      "Mean Absolute Error :1.8248\n",
      "Mean Squared Error :0.9769\n",
      "R2 score :2.2809\n",
      "\n",
      "-------------------------------\n",
      "\n",
      "Model performance for test set\n",
      "Root Mean Squared Error :35.7582\n",
      "Mean Absolute Error :4.6063\n",
      "Mean Squared Error :0.8531\n",
      "R2 score :5.9798\n",
      "\n",
      "-------------------------------\n",
      "\n",
      "-------------------------------\n",
      "XGBRegressor\n",
      "\n",
      "Model performance for training set\n",
      "Root Mean Squared Error :1.0146\n",
      "Mean Absolute Error :0.6875\n",
      "Mean Squared Error :0.9955\n",
      "R2 score :1.0073\n",
      "\n",
      "-------------------------------\n",
      "\n",
      "Model performance for test set\n",
      "Root Mean Squared Error :41.9037\n",
      "Mean Absolute Error :5.0577\n",
      "Mean Squared Error :0.8278\n",
      "R2 score :6.4733\n",
      "\n",
      "-------------------------------\n",
      "\n",
      "-------------------------------\n",
      "AdaBoost Regressor\n",
      "\n",
      "Model performance for training set\n",
      "Root Mean Squared Error :33.6105\n",
      "Mean Absolute Error :4.7566\n",
      "Mean Squared Error :0.8509\n",
      "R2 score :5.7975\n",
      "\n",
      "-------------------------------\n",
      "\n",
      "Model performance for test set\n",
      "Root Mean Squared Error :35.8199\n",
      "Mean Absolute Error :4.6404\n",
      "Mean Squared Error :0.8528\n",
      "R2 score :5.9850\n",
      "\n",
      "-------------------------------\n",
      "\n",
      "-------------------------------\n",
      "['Linear Regression', 'Lasso', 'Ridge', 'K-Neighbors Regressor', 'Decision Tree', 'Random Forest Regressor', 'XGBRegressor', 'AdaBoost Regressor']\n",
      "[5.40960336750764, 6.51969453566742, 5.390387016935638, 7.2516205085484176, 8.097530487747484, 5.979818758866267, 6.4733073671713335, 5.984976685176581]\n",
      "[5.327359474652332, 6.593815587795566, 5.323324922741654, 5.712219358533074, 0.2795084971874737, 2.280934744008169, 1.0072816866027385, 5.797459460494954]\n"
     ]
    }
   ],
   "source": [
    "models = {\n",
    "    \"Linear Regression\": LinearRegression(),\n",
    "    \"Lasso\": Lasso(),\n",
    "    \"Ridge\": Ridge(),\n",
    "    \"K-Neighbors Regressor\": KNeighborsRegressor(),\n",
    "    \"Decision Tree\": DecisionTreeRegressor(),\n",
    "    \"Random Forest Regressor\": RandomForestRegressor(),\n",
    "    \"XGBRegressor\":XGBRegressor(),\n",
    "    \"AdaBoost Regressor\": AdaBoostRegressor()\n",
    "}\n",
    "\n",
    "model_list = []\n",
    "r2_List_test =[]\n",
    "r2_list_train = []\n",
    "\n",
    "for i in range(len(list(models))):\n",
    "   model = list(models.values())[i]\n",
    "   \n",
    "   model.fit(X_train, y_train)\n",
    "   \n",
    "   # Make prediction\n",
    "   y_train_pred = model.predict(X_train)\n",
    "   y_test_pred = model.predict(X_test)\n",
    "   \n",
    "   #Evaluate model Train and Test dataset\n",
    "   model_train_mae, model_train_rmse, model_train_r2,model_train_mse = evaluate_model(y_train,y_train_pred)\n",
    "   model_test_mae, model_test_rmse, model_test_r2, model_test_mse = evaluate_model(y_test, y_test_pred)\n",
    "   \n",
    "   print(list(models.keys())[i])\n",
    "   \n",
    "   model_list.append(list(models.keys())[i])\n",
    "   \n",
    "   print(\"\\nModel performance for training set\")\n",
    "   print(\"Root Mean Squared Error :{:.4f}\".format(model_train_rmse))\n",
    "   print(\"Mean Absolute Error :{:.4f}\".format(model_train_mae))\n",
    "   print(\"Mean Squared Error :{:.4f}\".format(model_train_mse))\n",
    "   print(\"R2 score :{:.4f}\".format(model_train_r2))\n",
    "   print(\"\\n-------------------------------\")\n",
    "   print(\"\\nModel performance for test set\")\n",
    "   print(\"Root Mean Squared Error :{:.4f}\".format(model_test_rmse))\n",
    "   print(\"Mean Absolute Error :{:.4f}\".format(model_test_mae))\n",
    "   print(\"Mean Squared Error :{:.4f}\".format(model_test_mse))\n",
    "   print(\"R2 score :{:.4f}\".format(model_test_r2))\n",
    "   print(\"\\n-------------------------------\")\n",
    "   print(\"\\n-------------------------------\")\n",
    "\n",
    "\n",
    "   r2_List_test.append(model_test_r2)\n",
    "   r2_list_train.append(model_train_r2)\n",
    "   \n",
    "print(model_list)\n",
    "print(r2_List_test)\n",
    "print(r2_list_train)\n",
    "   "
   ]
  },
  {
   "cell_type": "markdown",
   "metadata": {},
   "source": [
    "# Results"
   ]
  },
  {
   "cell_type": "code",
   "execution_count": 243,
   "metadata": {},
   "outputs": [
    {
     "data": {
      "text/html": [
       "<div>\n",
       "<style scoped>\n",
       "    .dataframe tbody tr th:only-of-type {\n",
       "        vertical-align: middle;\n",
       "    }\n",
       "\n",
       "    .dataframe tbody tr th {\n",
       "        vertical-align: top;\n",
       "    }\n",
       "\n",
       "    .dataframe thead th {\n",
       "        text-align: right;\n",
       "    }\n",
       "</style>\n",
       "<table border=\"1\" class=\"dataframe\">\n",
       "  <thead>\n",
       "    <tr style=\"text-align: right;\">\n",
       "      <th></th>\n",
       "      <th>Model Name</th>\n",
       "      <th>Train R2 Score</th>\n",
       "      <th>Test R2 Score</th>\n",
       "      <th>Difference</th>\n",
       "    </tr>\n",
       "  </thead>\n",
       "  <tbody>\n",
       "    <tr>\n",
       "      <th>0</th>\n",
       "      <td>Linear Regression</td>\n",
       "      <td>5.327359</td>\n",
       "      <td>5.409603</td>\n",
       "      <td>0.082244</td>\n",
       "    </tr>\n",
       "    <tr>\n",
       "      <th>1</th>\n",
       "      <td>Lasso</td>\n",
       "      <td>6.593816</td>\n",
       "      <td>6.519695</td>\n",
       "      <td>0.074121</td>\n",
       "    </tr>\n",
       "    <tr>\n",
       "      <th>2</th>\n",
       "      <td>Ridge</td>\n",
       "      <td>5.323325</td>\n",
       "      <td>5.390387</td>\n",
       "      <td>0.067062</td>\n",
       "    </tr>\n",
       "    <tr>\n",
       "      <th>3</th>\n",
       "      <td>K-Neighbors Regressor</td>\n",
       "      <td>5.712219</td>\n",
       "      <td>7.251621</td>\n",
       "      <td>1.539401</td>\n",
       "    </tr>\n",
       "    <tr>\n",
       "      <th>4</th>\n",
       "      <td>Decision Tree</td>\n",
       "      <td>0.279508</td>\n",
       "      <td>8.097530</td>\n",
       "      <td>7.818022</td>\n",
       "    </tr>\n",
       "    <tr>\n",
       "      <th>5</th>\n",
       "      <td>Random Forest Regressor</td>\n",
       "      <td>2.280935</td>\n",
       "      <td>5.979819</td>\n",
       "      <td>3.698884</td>\n",
       "    </tr>\n",
       "    <tr>\n",
       "      <th>6</th>\n",
       "      <td>XGBRegressor</td>\n",
       "      <td>1.007282</td>\n",
       "      <td>6.473307</td>\n",
       "      <td>5.466026</td>\n",
       "    </tr>\n",
       "    <tr>\n",
       "      <th>7</th>\n",
       "      <td>AdaBoost Regressor</td>\n",
       "      <td>5.797459</td>\n",
       "      <td>5.984977</td>\n",
       "      <td>0.187517</td>\n",
       "    </tr>\n",
       "  </tbody>\n",
       "</table>\n",
       "</div>"
      ],
      "text/plain": [
       "                Model Name  Train R2 Score  Test R2 Score  Difference\n",
       "0        Linear Regression        5.327359       5.409603    0.082244\n",
       "1                    Lasso        6.593816       6.519695    0.074121\n",
       "2                    Ridge        5.323325       5.390387    0.067062\n",
       "3    K-Neighbors Regressor        5.712219       7.251621    1.539401\n",
       "4            Decision Tree        0.279508       8.097530    7.818022\n",
       "5  Random Forest Regressor        2.280935       5.979819    3.698884\n",
       "6             XGBRegressor        1.007282       6.473307    5.466026\n",
       "7       AdaBoost Regressor        5.797459       5.984977    0.187517"
      ]
     },
     "execution_count": 243,
     "metadata": {},
     "output_type": "execute_result"
    }
   ],
   "source": [
    "import pandas as pd\n",
    "\n",
    "df_results = pd.DataFrame({\n",
    "    \"Model Name\": model_list,\n",
    "    \"Train R2 Score\": r2_list_train,\n",
    "    \"Test R2 Score\": r2_List_test\n",
    "})\n",
    "df_results[\"Difference\"] = (df_results[\"Train R2 Score\"] - df_results[\"Test R2 Score\"]).abs()\n",
    "\n",
    "pd.options.display.float_format = '{:.6f}'.format\n",
    "\n",
    "df_results"
   ]
  },
  {
   "cell_type": "markdown",
   "metadata": {},
   "source": [
    "# Linear Regression score"
   ]
  },
  {
   "cell_type": "code",
   "execution_count": 244,
   "metadata": {},
   "outputs": [
    {
     "name": "stdout",
     "output_type": "stream",
     "text": [
      "Accuracy of Linear Regression Model : 87.97\n"
     ]
    }
   ],
   "source": [
    "lin_model = LinearRegression(fit_intercept=True)\n",
    "lin_model = lin_model.fit(X_train, y_train)\n",
    "y_pred = lin_model.predict(X_test)\n",
    "score = r2_score(y_test,y_pred)*100\n",
    "print(\"Accuracy of Linear Regression Model : %.2f\" %score)"
   ]
  },
  {
   "cell_type": "markdown",
   "metadata": {},
   "source": [
    "# plotting y_pred and y_test"
   ]
  },
  {
   "cell_type": "code",
   "execution_count": 245,
   "metadata": {},
   "outputs": [
    {
     "data": {
      "image/png": "[encoded data removed]",
      "text/plain": [
       "<Figure size 640x480 with 1 Axes>"
      ]
     },
     "metadata": {},
     "output_type": "display_data"
    }
   ],
   "source": [
    "plt.scatter(y_test,y_pred)\n",
    "plt.xlabel(\"Actual Value\")\n",
    "plt.ylabel(\"Predicted Value\")\n",
    "plt.show()"
   ]
  },
  {
   "cell_type": "code",
   "execution_count": 263,
   "metadata": {},
   "outputs": [
    {
     "data": {
      "text/plain": [
       "<Axes: xlabel='math score'>"
      ]
     },
     "execution_count": 263,
     "metadata": {},
     "output_type": "execute_result"
    },
    {
     "data": {
      "image/png": "[encoded data removed]",
      "text/plain": [
       "<Figure size 640x480 with 1 Axes>"
      ]
     },
     "metadata": {},
     "output_type": "display_data"
    }
   ],
   "source": [
    "sns.regplot(x=y_test,y=y_pred,ci=None,color='red')"
   ]
  },
  {
   "cell_type": "code",
   "execution_count": 247,
   "metadata": {},
   "outputs": [
    {
     "name": "stdout",
     "output_type": "stream",
     "text": [
      "Accuracy for Lasso model : 82.53\n"
     ]
    }
   ],
   "source": [
    "Lasso_model = Lasso(fit_intercept=True)\n",
    "Lasso_model.fit(X_train, y_train)\n",
    "y_pred = Lasso_model.predict(X_test)\n",
    "score = r2_score(y_test,y_pred)*100\n",
    "print(\"Accuracy for Lasso model : %.2f\" %score)"
   ]
  }
 ],
 "metadata": {
  "kernelspec": {
   "display_name": "Python 3",
   "language": "python",
   "name": "python3"
  },
  "language_info": {
   "codemirror_mode": {
    "name": "ipython",
    "version": 3
   },
   "file_extension": ".py",
   "mimetype": "text/x-python",
   "name": "python",
   "nbconvert_exporter": "python",
   "pygments_lexer": "ipython3",
   "version": "3.8.0"
  }
 },
 "nbformat": 4,
 "nbformat_minor": 2
}
